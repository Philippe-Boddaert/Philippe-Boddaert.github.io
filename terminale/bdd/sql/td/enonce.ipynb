{
 "cells": [
  {
   "cell_type": "markdown",
   "metadata": {},
   "source": [
    "## Exercice SQL\n",
    "\n",
    "Un ski-club utilise une base de données constituée de 2 tables :\n",
    "\n",
    "- une table ADHERENTS\n",
    "- une table STATIONS\n",
    "\n",
    "Dans la table ADHERENTS on trouve un attribut “ref_station” qui permet de connaître les stations de ski préférées des adhérents.\n",
    "\n",
    "Ci-dessous le contenu de la table ADHERENTS :\n",
    "\n",
    "| num_licence | nom\t| prenom | annee_naissance | ref_station |\n",
    "| :--: | :--: |:--: | :--: | :--: |\n",
    "| 12558\t| Doe\t| John\t| 1988 | 5 |\n",
    "| 13668\t| Vect\t| Alice\t| 1974\t| 6 |\n",
    "| 1777\t| Dect\t| Bob\t| 1967\t| 3 |\n",
    "| 13447\t| Beau\t| Tristan | 1999 | 4 |\n",
    "| 1141\t| Pabeau |\tJohn |\t1975 | 3 |\n",
    "\n",
    "Ci-dessous le contenu de la table STATIONS :\n",
    "\n",
    "| ref | nom\t| altitude_max |\n",
    "| :--: | :--: | :--: |\n",
    "| 3\t| Le grand Bornand | 2050 |\n",
    "| 4\t| La clusaz\t| 2616 |\n",
    "| 5\t| Flaine | 2510 |\n",
    "| 6\t| Avoriaz | 2466 |"
   ]
  },
  {
   "cell_type": "markdown",
   "metadata": {},
   "source": [
    "❓__Question 1__ : Comment appelle-t-on l’attribut ref_station de la table ADHERENTS ?"
   ]
  },
  {
   "cell_type": "markdown",
   "metadata": {},
   "source": []
  },
  {
   "cell_type": "markdown",
   "metadata": {},
   "source": [
    "💻 __Question 2__ : Écrire une requête SQL permettant d’obtenir le nom des stations ayant une altitude maxi strictement supérieure à 2500 m."
   ]
  },
  {
   "cell_type": "code",
   "execution_count": null,
   "metadata": {},
   "outputs": [],
   "source": []
  },
  {
   "cell_type": "markdown",
   "metadata": {},
   "source": [
    "💻 __Question 3__ : Écrire une requête SQL permettant d’obtenir le numéro de licence des adhérents nés après 1980 et ayant pour prénom John."
   ]
  },
  {
   "cell_type": "code",
   "execution_count": null,
   "metadata": {},
   "outputs": [],
   "source": []
  },
  {
   "cell_type": "markdown",
   "metadata": {},
   "source": [
    "❓__Question 4__: Donner le résultat de la requête SQL suivante :\n",
    "\n",
    "```sql\n",
    "SELECT nom \n",
    "FROM ADHERENTS \n",
    "WHERE num_licence > 2000 OR  ref_station = 3\n",
    "\n",
    "```"
   ]
  },
  {
   "cell_type": "markdown",
   "metadata": {},
   "source": []
  },
  {
   "cell_type": "markdown",
   "metadata": {},
   "source": [
    "❓__Question 5__: Donner le résultat de la requête SQL suivante :\n",
    "\n",
    "```sql\n",
    "SELECT STATIONS.nom\n",
    "FROM STATIONS\n",
    "INNER JOIN ADHERENTS ON ADHERENTS.ref_station = STATIONS.ref\n",
    "WHERE annee_naissance > 1975\n",
    "\n",
    "```"
   ]
  },
  {
   "cell_type": "markdown",
   "metadata": {},
   "source": []
  }
 ],
 "metadata": {
  "kernelspec": {
   "display_name": "SQL",
   "language": "sql",
   "name": "sql"
  }
 },
 "nbformat": 4,
 "nbformat_minor": 2
}
