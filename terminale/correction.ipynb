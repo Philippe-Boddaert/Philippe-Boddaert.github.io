{
 "cells": [
  {
   "cell_type": "markdown",
   "metadata": {
    "slideshow": {
     "slide_type": "slide"
    }
   },
   "source": [
    "# Les Arbres"
   ]
  },
  {
   "cell_type": "markdown",
   "metadata": {
    "slideshow": {
     "slide_type": "slide"
    }
   },
   "source": [
    "## 1. Contexte\n",
    "\n",
    "Les __arbres__ sont des structures de données __hiérarchiques__, __non-linéaire__ (contrairement aux tableaux indexés, listes chaînées, piles, et files) et  naturellement __récursives__, utilisées pour représenter des ensembles de données structurées hiérarchiquement telles que :"
   ]
  },
  {
   "cell_type": "markdown",
   "metadata": {
    "slideshow": {
     "slide_type": "subslide"
    }
   },
   "source": [
    "Les arborescences des systèmes de fichiers :\n",
    "\n",
    "![](https://g.gravizo.com/svg?graph%20G%20%7B%0Anode%5Bshape%3Dfolder%5D%3B%0A%22%2F%20(root)%22%20--%20%22bin%22%3B%0A%22%2F%20(root)%22%20--%20%22usr%22%3B%0A%22%2F%20(root)%22%20--%20%22tmp%22%3B%0A%22%2F%20(root)%22%20--%20%22export%22%3B%0A%22export%22%20--%20%22web%22%3B%0A%22export%22%20--%20%22home%22%3A%0A%22home%22%20--%20%22John%22%3B%0A%22home%22%20--%20%22mary%22%3B%0A%0A%0A%7D)"
   ]
  },
  {
   "cell_type": "markdown",
   "metadata": {
    "slideshow": {
     "slide_type": "subslide"
    }
   },
   "source": [
    "Le DOM (Document Object Model) d'une page HTML :\n",
    "\n",
    "<table width=\"100%\">\n",
    "    <tr>\n",
    "        <td style=\"text-align:left;background-color:white;\">\n",
    "&lt;html&gt;<br/>\n",
    "&nbsp;&nbsp;&lt;head&gt;<br/>\n",
    "&nbsp;&nbsp;&nbsp;&nbsp;&lt;title&gt;Ma Page&lt;/title&gt;<br/>\n",
    "&nbsp;&nbsp;&lt;/head&gt;<br/>\n",
    "&nbsp;&nbsp;&lt;body&gt;<br/>\n",
    "&nbsp;&nbsp;&nbsp;&nbsp;&lt;h1&gt;Liens Favoris&lt;/h1&gt;<br/>\n",
    "&nbsp;&nbsp;&nbsp;&nbsp;&lt;a href=\"https://basthon.fr\"&gt;Basthon&lt;/a&gt;<br/>\n",
    "&nbsp;&lt;/body&gt;<br/>\n",
    "&lt;/html&gt;<br/>\n",
    "        </td>\n",
    "        <td style=\"background-color:white;\">\n",
    "            <img src='https://g.gravizo.com/svg?graph%20G%20%7B%0Anode%5Bshape%3Drectangle%5D%3B%0A%22html%22%20--%20%22head%22%3B%0A%22html%22%20--%20%22body%22%3B%0A%22head%22%20--%20%22title%22%3B%0A%22body%22%20--%20%22h1%22%3B%0A%22body%22%20--%20%22a%22%3B%0A%7D'>\n",
    "        </td>\n",
    "    </tr>\n",
    "</table>"
   ]
  },
  {
   "cell_type": "markdown",
   "metadata": {
    "slideshow": {
     "slide_type": "subslide"
    }
   },
   "source": [
    "Les arbres généalogiques\n",
    "\n",
    "![](https://www.tudobom.fr/wp-content/uploads/2022/09/5e4ce131ea84796a33678d39279b02b5.jpg)"
   ]
  },
  {
   "cell_type": "markdown",
   "metadata": {
    "slideshow": {
     "slide_type": "slide"
    }
   },
   "source": [
    "## 2. Caractérisation des arbres\n",
    "\n",
    "Les arbres sont des structures de données __hiérarchiques__, __non-linéaire__ (contrairement aux tableaux indexés, listes chaînées, piles, et files).\n",
    "\n",
    "Un arbre est constitué d'un ensemble de __noeuds__, reliés entre eux par des __arêtes__."
   ]
  },
  {
   "cell_type": "markdown",
   "metadata": {
    "slideshow": {
     "slide_type": "subslide"
    }
   },
   "source": [
    "<table width=\"100%\">\n",
    "    <tr>\n",
    "        <td style=\"background-color:white;\">\n",
    "            <img src='https://g.gravizo.com/svg?graph%20G%20%7B%0A%0A%20%20subgraph%20cluster_0%20%7B%0A%20%20%20%20style%3Ddotted%3B%0A%20%20%20%20color%3Dblue%3B%0A%20%20%20%20label%20%3D%20%22Sous-arbre%20gauche%22%3B%0A%20%20%20%20labelloc%20%3D%20%22b%22%3B%0A%20%20%20%20B%20--%20D%3B%0A%20%20%20%20B%20--%20E%3B%0A%20%20%7D%0A%0A%20%20subgraph%20cluster_1%20%7B%0A%20%20%20%20style%3Ddotted%3B%0A%20%20%20%20label%20%3D%20%22Sous-arbre%20droit%22%3B%0A%20%20%20%20labelloc%20%3D%20%22b%22%3B%0A%20%20%20%20color%3Dblue%3B%0A%20%20%20%20C%20--%20F%3B%0A%20%20%20%20C%20--%20G%3B%0A%20%20%20%20F%20--%20H%3B%0A%20%20%20%20G%20--%20I%3B%0A%20%20%20%20G%20--%20J%3B%0A%20%20%7D%0A%0A%22Racine%22%20--%20A%3B%0AA%20--%20B%3B%0AA%20--%20C%3B%0A%0A%0A%22Racine%22%5Bstyle%3D%22filled%22%2C%20color%3D%22pink%22%5D%3B%0AA%5Blabel%3D%22Noeud%22%2C%20style%3D%22filled%22%2C%20color%3D%22lightblue%22%5D%3B%0AB%5Blabel%3D%22Noeud%22%2C%20style%3D%22filled%22%2C%20color%3D%22lightblue%22%5D%3B%0AC%5Blabel%3D%22Noeud%22%2C%20style%3D%22filled%22%2C%20color%3D%22lightblue%22%5D%3B%0AD%5Blabel%3D%22Feuille%22%2C%20style%3D%22filled%22%2C%20color%3D%22palegreen%22%5D%3B%0AE%5Blabel%3D%22Feuille%22%2C%20style%3D%22filled%22%2C%20color%3D%22palegreen%22%5D%3B%0AF%5Blabel%3D%22Noeud%22%2C%20style%3D%22filled%22%2C%20color%3D%22lightblue%22%5D%3B%0AG%5Blabel%3D%22Noeud%22%2C%20style%3D%22filled%22%2C%20color%3D%22lightblue%22%5D%3B%0AH%5Blabel%3D%22Feuille%22%2C%20style%3D%22filled%22%2C%20color%3D%22palegreen%22%5D%3B%0AI%5Blabel%3D%22Feuille%22%2C%20style%3D%22filled%22%2C%20color%3D%22palegreen%22%5D%3B%0AJ%5Blabel%3D%22Feuille%22%2C%20style%3D%22filled%22%2C%20color%3D%22palegreen%22%5D%3B%0A%0A%7D'>\n",
    "        </td>\n",
    "        <td>\n",
    "            <div>Noeud racine : Unique, pas de parents</div>\n",
    "            <div>Noeuds internes : Un parent, a au moins un fils</div>\n",
    "            <div>Noeud externes (Feuilles) : Un parent, pas de fils</div>\n",
    "        </td>\n",
    "    </tr>\n",
    "</table>\n",
    "\n",
    "![]()"
   ]
  },
  {
   "cell_type": "markdown",
   "metadata": {
    "slideshow": {
     "slide_type": "subslide"
    }
   },
   "source": [
    "Un arbre est une structure __récursive__ : chaque noeud interne est la racine d'un sous-arbre."
   ]
  },
  {
   "cell_type": "markdown",
   "metadata": {
    "slideshow": {
     "slide_type": "slide"
    }
   },
   "source": [
    "## 3. Mesures sur les arbres\n",
    "\n",
    "- la `taille` d'un arbre est le nombre de noeuds de l'arbre.\n",
    "- Un `chemin` est une liste de noeuds reliés par des arêtes.\n",
    "- La `profondeur` d'un noeud est le nombre d'arêtes sur la branche qui le relie à la racine. La profondeur de la racine est nulle.\n",
    "- La `hauteur` d'un arbre est la profondeur maximale de l'ensemble des noeuds de l'arbre. Par convention, on considère que la hauteur de l'arbre vide est -1.\n",
    "- l'`arité d'un noeud` est le nombre de fils du noeud.\n",
    "- l'`arité d'un arbre` est le nombre maximal de fils des noeuds de l'arbre."
   ]
  },
  {
   "cell_type": "markdown",
   "metadata": {
    "slideshow": {
     "slide_type": "slide"
    }
   },
   "source": [
    "## 4. Exercice"
   ]
  },
  {
   "cell_type": "markdown",
   "metadata": {
    "slideshow": {
     "slide_type": "subslide"
    }
   },
   "source": [
    "Voici un extrait de l'arbre généalogique de Charles de Valois, comte du XIIIème siècle.\n",
    "\n",
    "Un arbre généalogique est constitué de personnes (noeuds) reliées entre elles par un lien de parenté direct.\n",
    "\n",
    "![](https://g.gravizo.com/svg?graph%20G%20%7B%0AA%20--%20B%3B%0AA%20--%20C%3B%0AA%20--%20D%3B%0AC%20--%20E%3B%0AC%20--%20F%3B%0AF%20--%20G%3B%0AF%20--%20H%3B%0AF%20--%20I%3B%0AF%20--%20J%3B%0AH%20--%20K%3B%0AF%20--%20L%3B%0A%0AA%5Blabel%3D%22Charles%20de%20Valois%22%5D%3B%0AB%5Blabel%3D%22Isabelle%22%5D%3B%0AC%5Blabel%3D%22Philippe%20VI%22%5D%3B%0AD%5Blabel%3D%22Charles%20II%22%5D%3B%0AE%5Blabel%3D%22Marie%22%5D%3B%0AF%5Blabel%3D%22Jean%20II%22%5D%3B%0AG%5Blabel%3D%22Charles%20V%22%5D%3B%0AH%5Blabel%3D%22Louis%20I%22%5D%3B%0AI%5Blabel%3D%22Philippe%20II%22%5D%3B%0AJ%5Blabel%3D%22Jeanne%22%5D%3B%0AK%5Blabel%3D%22Louis%20II%22%5D%3B%0AL%5Blabel%3D%22Catherine%22%5D%3B%0A%7D)\n",
    "\n",
    "Répondre aux questions suivantes :"
   ]
  },
  {
   "cell_type": "markdown",
   "metadata": {
    "slideshow": {
     "slide_type": "subslide"
    }
   },
   "source": [
    "❓1. Quelle est la racine de cet arbre ? Justifier."
   ]
  },
  {
   "cell_type": "markdown",
   "metadata": {
    "slideshow": {
     "slide_type": "subslide"
    },
    "solution": true
   },
   "source": [
    "La racine de l'arbre est le noeud n'ayant pas de parent. En l'occurrence, Charles de Valois est la racine de l'arbre."
   ]
  },
  {
   "cell_type": "markdown",
   "metadata": {
    "slideshow": {
     "slide_type": "subslide"
    }
   },
   "source": [
    "❓2. Citer 3 feuilles de cet arbre. Que signifie qu'une personne soit considérée comme feuille d'un arbre généalogique ?"
   ]
  },
  {
   "cell_type": "markdown",
   "metadata": {
    "slideshow": {
     "slide_type": "subslide"
    },
    "solution": true
   },
   "source": [
    "Les feuilles de l'arbre sont : Isabelle, Charles II, Marie, Charles V, Louis II, Philippe II, Jeanne, Catherine.\n",
    "\n",
    "Une personne considérée comme une feuille n'a pas d'enfants."
   ]
  },
  {
   "cell_type": "markdown",
   "metadata": {
    "slideshow": {
     "slide_type": "subslide"
    }
   },
   "source": [
    "❓3. Quelle est la taille de l'arbre ?"
   ]
  },
  {
   "cell_type": "markdown",
   "metadata": {
    "slideshow": {
     "slide_type": "subslide"
    },
    "solution": true
   },
   "source": [
    "La taille de l'arbre est le nombre de noeuds de celui-ci, soit 12."
   ]
  },
  {
   "cell_type": "markdown",
   "metadata": {
    "slideshow": {
     "slide_type": "subslide"
    }
   },
   "source": [
    "❓4. Quelle est l'arité du noeud représentant Jean II ?"
   ]
  },
  {
   "cell_type": "markdown",
   "metadata": {
    "slideshow": {
     "slide_type": "subslide"
    },
    "solution": true
   },
   "source": [
    "L'arité du noeud Jean II est 5, i.e le nombre de ses noeuds fils. "
   ]
  },
  {
   "cell_type": "markdown",
   "metadata": {
    "slideshow": {
     "slide_type": "subslide"
    }
   },
   "source": [
    "❓5. Quelle est l'arité de l'arbre ?"
   ]
  },
  {
   "cell_type": "markdown",
   "metadata": {
    "slideshow": {
     "slide_type": "subslide"
    },
    "solution": true
   },
   "source": [
    "L'arité de l'arbre est de 5, i.e le nombre maximal de fils des noeuds de l'arbre."
   ]
  },
  {
   "cell_type": "markdown",
   "metadata": {
    "slideshow": {
     "slide_type": "subslide"
    }
   },
   "source": [
    "❓6. Quelle est la profondeur du noeud représentant Catherine ?"
   ]
  },
  {
   "cell_type": "markdown",
   "metadata": {
    "slideshow": {
     "slide_type": "subslide"
    },
    "solution": true
   },
   "source": [
    "La profondeur du noeud est 3, i.e le nombre d'arêtes entre Catherine et Charles de Valois."
   ]
  },
  {
   "cell_type": "markdown",
   "metadata": {
    "slideshow": {
     "slide_type": "subslide"
    }
   },
   "source": [
    "❓7. Quelle est la hauteur de l'arbre ?"
   ]
  },
  {
   "cell_type": "markdown",
   "metadata": {
    "slideshow": {
     "slide_type": "subslide"
    },
    "solution": true
   },
   "source": [
    "La hauteur de l'arbre est 4, i.e la profondeur maximale entre un noeud et la racine (Louis II et Charles de Valois)."
   ]
  }
 ],
 "metadata": {
  "celltoolbar": "Éditer les Méta-Données",
  "kernelspec": {
   "display_name": "Python 3",
   "language": "python",
   "name": "python3"
  },
  "language_info": {
   "codemirror_mode": {
    "name": "ipython",
    "version": 3
   },
   "file_extension": ".py",
   "mimetype": "text/x-python",
   "name": "python",
   "nbconvert_exporter": "python",
   "pygments_lexer": "ipython3",
   "version": "3.9.13"
  }
 },
 "nbformat": 4,
 "nbformat_minor": 2
}
